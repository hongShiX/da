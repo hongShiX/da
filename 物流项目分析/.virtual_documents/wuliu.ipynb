import pandas as pd
import matplotlib.pyplot as plt
from matplotlib_inline import backend_inline
backend_inline.set_matplotlib_formats('svg')
# %matplotlib inline
# 支持中文
plt.rcParams['font.sans-serif'] = ['SimHei'] # 用来正常显示中文标签
plt.rcParams['axes.unicode_minus'] = False # 用来正常显示负号


df = pd.read_csv('./data_wuliu-Copy1.csv')
df.head()


df_sale_area = df.groupby('销售区域')['订单号'].count()


df_sale_area.plot(kind = 'bar')
